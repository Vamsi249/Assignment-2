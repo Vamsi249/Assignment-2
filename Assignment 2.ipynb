{
 "cells": [
  {
   "cell_type": "code",
   "execution_count": 4,
   "id": "b9ab0267",
   "metadata": {},
   "outputs": [
    {
     "name": "stdout",
     "output_type": "stream",
     "text": [
      "Enter any Integer : 15\n",
      "[1, 2, 3, 4, 5, 6, 7, 8, 9, 10, 11, 12, 13, 14, 15]\n",
      "[15, 14, 13, 12, 11, 10, 9, 8, 7, 6, 5, 4, 3, 2, 1]\n"
     ]
    }
   ],
   "source": [
    "#Q1\n",
    "n=int(input(\"Enter any Integer : \"))\n",
    "list=[]\n",
    "for i in range (n):\n",
    "    list.append(i+1)\n",
    "print(list)\n",
    "print(list[::-1])"
   ]
  },
  {
   "cell_type": "code",
   "execution_count": 5,
   "id": "ca9b8b14",
   "metadata": {},
   "outputs": [
    {
     "name": "stdout",
     "output_type": "stream",
     "text": [
      "[1, 2, 3, 4, 5, 6, 7, 8, 9, 10, 11, 12, 13, 14, 15, 16, 17, 18, 19, 20, 21, 22, 23, 24, 25, 26, 27, 28, 29, 30, 31, 32, 33, 34, 35, 36, 37, 38, 39, 40, 41, 42, 43, 44, 45, 46, 47, 48, 49, 50, 51, 52, 53, 54, 55, 56, 57, 58, 59, 60, 61, 62, 63, 64, 65, 66, 67, 68, 69, 70, 71, 72, 73, 74, 75, 76, 77, 78, 79, 80, 81, 82, 83, 84, 85, 86, 87, 88, 89, 90, 91, 92, 93, 94, 95, 96, 97, 98, 99, 100]\n",
      "All even numbers are : \n",
      "2 4 6 8 10 12 14 16 18 20 22 24 26 28 30 32 34 36 38 40 42 44 46 48 50 52 54 56 58 60 62 64 66 68 70 72 74 76 78 80 82 84 86 88 90 92 94 96 98 100 \n",
      "All odd numbers are : \n",
      "1 3 5 7 9 11 13 15 17 19 21 23 25 27 29 31 33 35 37 39 41 43 45 47 49 51 53 55 57 59 61 63 65 67 69 71 73 75 77 79 81 83 85 87 89 91 93 95 97 99 "
     ]
    }
   ],
   "source": [
    "#Q2\n",
    "list=[]\n",
    "for i in range (100):\n",
    "    list.append(i+1)\n",
    "print(list)\n",
    "\n",
    "\n",
    "print(\"All even numbers are : \")\n",
    "for i in range(list[i]):\n",
    "    if list[i]%2==0:\n",
    "        print(list[i],end=\" \")\n",
    "print(end=\"\\n\")\n",
    "        \n",
    "print(\"All odd numbers are : \")        \n",
    "for i in range(list[i]):\n",
    "     if list[i]%2==1:\n",
    "        print(list[i],end=\" \")\n",
    "        "
   ]
  },
  {
   "cell_type": "code",
   "execution_count": 8,
   "id": "bc5a1805",
   "metadata": {},
   "outputs": [
    {
     "name": "stdout",
     "output_type": "stream",
     "text": [
      "Enter Any number : 7\n",
      "prime number\n"
     ]
    }
   ],
   "source": [
    "#Q3\n",
    "n=int(input(\"Enter Any number : \"))\n",
    "if n>1:\n",
    "    for i in range(2,n):\n",
    "        if n%i==0:\n",
    "            print(\"Not Prime \")\n",
    "            break\n",
    "    else:\n",
    "        print(\"prime number\")\n",
    "        \n",
    "else:\n",
    "    print(\"Neither Prime nor Composite\")"
   ]
  },
  {
   "cell_type": "code",
   "execution_count": 39,
   "id": "e523f7ca",
   "metadata": {},
   "outputs": [
    {
     "name": "stdout",
     "output_type": "stream",
     "text": [
      "Enter any Number : 15\n",
      "60\n"
     ]
    }
   ],
   "source": [
    "#Q4\n",
    "n=int(input(\"Enter any Number : \"))\n",
    "count=0\n",
    "for i in range(1,n+1):\n",
    "    if i%3==0 or i%5==0:\n",
    "        count=count+i\n",
    "print(count)"
   ]
  },
  {
   "cell_type": "code",
   "execution_count": 12,
   "id": "df5c6281",
   "metadata": {},
   "outputs": [
    {
     "name": "stdout",
     "output_type": "stream",
     "text": [
      "Enter any number : 12\n",
      "Please Choose any one the options : \n",
      "SUM\n",
      "PRODUCT\n",
      "SUM\n",
      "78\n"
     ]
    }
   ],
   "source": [
    "#Q5\n",
    "n=int(input(\"Enter any number : \"))\n",
    "print(\"Please Choose any one the options : \")\n",
    "print(\"SUM\",end=\"\\n\")\n",
    "print(\"PRODUCT\",end=\"\\n\")\n",
    "\n",
    "choice=input()\n",
    "    \n",
    "def mysum():\n",
    "    \n",
    "    count=0\n",
    "    for i in range(n+1):\n",
    "        count=count+i\n",
    "    print(count)\n",
    "\n",
    "def myproduct():\n",
    "    con=1\n",
    "    for i in range(n):\n",
    "        con=con*(i+1)  \n",
    "    print(con)\n",
    "\n",
    "if(choice==\"sum\" or choice==\"SUM\" or choice==\"Sum\"):\n",
    "    mysum()\n",
    "    \n",
    "elif(choice==\"product\" or choice==\"PRODUCT\" or choice==\"Product\"):\n",
    "    myproduct()\n",
    "    \n",
    "else:\n",
    "    print(\"Make a Valid Choice\")"
   ]
  },
  {
   "cell_type": "code",
   "execution_count": 13,
   "id": "ec76593b",
   "metadata": {},
   "outputs": [
    {
     "name": "stdout",
     "output_type": "stream",
     "text": [
      "233168\n"
     ]
    }
   ],
   "source": [
    "#Q6\n",
    "list=[]\n",
    "for i in range (1001):\n",
    "    list.append(i)\n",
    "\n",
    "count=0\n",
    "\n",
    "\n",
    "for i in range(list[i]):\n",
    "    if i%3==0 or i%5==0:\n",
    "        count=count+list[i]\n",
    "print(count)"
   ]
  },
  {
   "cell_type": "code",
   "execution_count": 14,
   "id": "226d460b",
   "metadata": {},
   "outputs": [
    {
     "name": "stdout",
     "output_type": "stream",
     "text": [
      "[2002, 2009, 2016, 2023, 2037, 2044, 2051, 2058, 2072, 2079, 2086, 2093, 2107, 2114, 2121, 2128, 2142, 2149, 2156, 2163, 2177, 2184, 2191, 2198, 2212, 2219, 2226, 2233, 2247, 2254, 2261, 2268, 2282, 2289, 2296, 2303, 2317, 2324, 2331, 2338, 2352, 2359, 2366, 2373, 2387, 2394, 2401, 2408, 2422, 2429, 2436, 2443, 2457, 2464, 2471, 2478, 2492, 2499, 2506, 2513, 2527, 2534, 2541, 2548, 2562, 2569, 2576, 2583, 2597, 2604, 2611, 2618, 2632, 2639, 2646, 2653, 2667, 2674, 2681, 2688, 2702, 2709, 2716, 2723, 2737, 2744, 2751, 2758, 2772, 2779, 2786, 2793, 2807, 2814, 2821, 2828, 2842, 2849, 2856, 2863, 2877, 2884, 2891, 2898, 2912, 2919, 2926, 2933, 2947, 2954, 2961, 2968, 2982, 2989, 2996, 3003, 3017, 3024, 3031, 3038, 3052, 3059, 3066, 3073, 3087, 3094, 3101, 3108, 3122, 3129, 3136, 3143, 3157, 3164, 3171, 3178, 3192, 3199]\n"
     ]
    }
   ],
   "source": [
    "#Q7\n",
    "list=[]\n",
    "for i in range(2000,3201):\n",
    "    if i%7==0 and (i%5)!=0 :\n",
    "        list.append(i)\n",
    "print(list)"
   ]
  },
  {
   "cell_type": "code",
   "execution_count": 15,
   "id": "ab684520",
   "metadata": {},
   "outputs": [
    {
     "name": "stdout",
     "output_type": "stream",
     "text": [
      "25164150\n"
     ]
    }
   ],
   "source": [
    "#Q8\n",
    "s=range(0,101)\n",
    "a=sum(s)\n",
    "print(a*a- sum(i*i for i in s))"
   ]
  },
  {
   "cell_type": "code",
   "execution_count": 17,
   "id": "d6041e3b",
   "metadata": {},
   "outputs": [
    {
     "name": "stdout",
     "output_type": "stream",
     "text": [
      "Enter any Number : 6\n",
      "Factorial of  6 is :  720\n"
     ]
    }
   ],
   "source": [
    "#Q9\n",
    "n=int(input(\"Enter any Number : \"))\n",
    "def fact(n):\n",
    "    if n==1 or n==0:\n",
    "        return 1\n",
    "    else:\n",
    "        return n*fact(n-1)\n",
    "print(\"Factorial of \", n , \"is : \", fact(n))"
   ]
  },
  {
   "cell_type": "code",
   "execution_count": 18,
   "id": "29632038",
   "metadata": {},
   "outputs": [
    {
     "name": "stdout",
     "output_type": "stream",
     "text": [
      "\n",
      "\n",
      "1 \n",
      "\n",
      "2 2 \n",
      "\n",
      "3 3 3 \n",
      "\n",
      "4 4 4 4 \n",
      "\n",
      "5 5 5 5 5 \n",
      "\n"
     ]
    }
   ],
   "source": [
    "#Q10\n",
    "n=5\n",
    "for i in range(n+1):\n",
    "    for j in range(i):\n",
    "        print(i,end=\" \")\n",
    "    print(\"\\n\")"
   ]
  },
  {
   "cell_type": "code",
   "execution_count": 19,
   "id": "0af331c7",
   "metadata": {},
   "outputs": [
    {
     "name": "stdout",
     "output_type": "stream",
     "text": [
      "5 5 5 5 5 \n",
      "5 4 4 4 5 \n",
      "5 4 3 4 5 \n",
      "5 4 4 4 5 \n",
      "5 5 5 5 5 \n"
     ]
    }
   ],
   "source": [
    "n=5\n",
    "for i in range(n):\n",
    "    for j in range(n):\n",
    "        print(max(i+1,j+1,n-i,n-j),end = \" \")\n",
    "    print()"
   ]
  },
  {
   "cell_type": "code",
   "execution_count": 20,
   "id": "202d3ab0",
   "metadata": {},
   "outputs": [
    {
     "name": "stdout",
     "output_type": "stream",
     "text": [
      "\n",
      "\n",
      "* \n",
      "* * \n",
      "* * * \n",
      "* * * * \n",
      "* * * * * \n"
     ]
    }
   ],
   "source": [
    "n=5\n",
    "for i in range(n+1):\n",
    "    print(\"\")\n",
    "    for j in range(i):\n",
    "        print(\"*\",end=\" \")\n",
    "print(\"\")"
   ]
  },
  {
   "cell_type": "code",
   "execution_count": 22,
   "id": "52d236f6",
   "metadata": {},
   "outputs": [
    {
     "name": "stdout",
     "output_type": "stream",
     "text": [
      "**** \n",
      "*** \n",
      "** \n",
      "* \n",
      " \n"
     ]
    }
   ],
   "source": [
    "n=4\n",
    "for i in range(n+1,0,-1):\n",
    "    for j in range(0,i-1):\n",
    "        print(\"*\",end=\"\")\n",
    "    print(\" \")"
   ]
  },
  {
   "cell_type": "code",
   "execution_count": 23,
   "id": "e77bbacc",
   "metadata": {},
   "outputs": [
    {
     "name": "stdout",
     "output_type": "stream",
     "text": [
      "#####\n",
      "#####\n",
      "#####\n",
      "#####\n",
      "#####\n"
     ]
    }
   ],
   "source": [
    "n=5\n",
    "for i in range(n-1):\n",
    "    print(\"#\"*n)\n",
    "print(\"#\"*(n))"
   ]
  },
  {
   "cell_type": "code",
   "execution_count": 24,
   "id": "781a7ae9",
   "metadata": {},
   "outputs": [
    {
     "name": "stdout",
     "output_type": "stream",
     "text": [
      "Enter any Number : 5\n",
      "The sum is :  5 + 55 + 555 + 5555 =\n",
      "6170\n"
     ]
    }
   ],
   "source": [
    "#Q11\n",
    "n=int(input(\"Enter any Number : \"))\n",
    "\n",
    "n1=str(n)*1\n",
    "n2=str(n)*2\n",
    "n3=str(n)*3\n",
    "n4=str(n)*4\n",
    "print(\"The sum is : \",n1 ,\"+\",n2,\"+\",n3,\"+\",n4,\"=\")\n",
    "mysum= int(n1)+int(n2)+int(n3)+int(n4)\n",
    "print(mysum)"
   ]
  },
  {
   "cell_type": "code",
   "execution_count": 25,
   "id": "727e49b4",
   "metadata": {},
   "outputs": [
    {
     "name": "stdout",
     "output_type": "stream",
     "text": [
      "Enter your name : Vamsi\n",
      "5\n"
     ]
    }
   ],
   "source": [
    "#Q12\n",
    "n=input(\"Enter your name : \")\n",
    "def mylen(n):\n",
    "    count=0\n",
    "    for i in n:\n",
    "        count=count+1\n",
    "    return count\n",
    "print(mylen(n))"
   ]
  },
  {
   "cell_type": "code",
   "execution_count": 26,
   "id": "a8f5d4db",
   "metadata": {},
   "outputs": [
    {
     "name": "stdout",
     "output_type": "stream",
     "text": [
      "Enter any sentense: 121 is a palindrome number\n",
      "Letter are:  19\n",
      "Digits are:  3\n"
     ]
    }
   ],
   "source": [
    "#Q13\n",
    "n=input(\"Enter any sentense: \")\n",
    "d=l=0\n",
    "for i in n:\n",
    "    if i.isdigit():\n",
    "        d=d+1\n",
    "    elif i.isalpha():\n",
    "        l=l+1\n",
    "    else:\n",
    "        pass\n",
    "print(\"Letter are: \",l)\n",
    "print(\"Digits are: \",d)"
   ]
  },
  {
   "cell_type": "code",
   "execution_count": 28,
   "id": "9bff1a96",
   "metadata": {},
   "outputs": [
    {
     "name": "stdout",
     "output_type": "stream",
     "text": [
      "Enter any String : vamsi\n",
      "VAMSI"
     ]
    }
   ],
   "source": [
    "#Q14\n",
    "n=input(\"Enter any String : \")\n",
    "for i in n:\n",
    "    if i.isalpha():\n",
    "        print(i.capitalize(),end=\"\")"
   ]
  },
  {
   "cell_type": "code",
   "execution_count": 29,
   "id": "12fed539",
   "metadata": {},
   "outputs": [
    {
     "name": "stdout",
     "output_type": "stream",
     "text": [
      "Enter any sentense : My name is Vamsi\n",
      "Upper Case Characters are:   2\n",
      "Lower Case Characters are:   11\n"
     ]
    }
   ],
   "source": [
    "#Q15\n",
    "n=input(\"Enter any sentense : \")\n",
    "u=l=0\n",
    "for i in n:\n",
    "    if i.isupper():\n",
    "        u=u+1\n",
    "    elif i.islower():\n",
    "        l=l+1\n",
    "    else:\n",
    "        pass\n",
    "print(\"Upper Case Characters are:  \",u)\n",
    "print(\"Lower Case Characters are:  \",l)"
   ]
  },
  {
   "cell_type": "code",
   "execution_count": 30,
   "id": "6abfb387",
   "metadata": {},
   "outputs": [
    {
     "name": "stdout",
     "output_type": "stream",
     "text": [
      "Enter any Sentence : I am from Andhra Pradesh\n",
      "Enter Character to be counted : a\n",
      "3\n"
     ]
    }
   ],
   "source": [
    "#Q16\n",
    "n=input(\"Enter any Sentence : \")\n",
    "c=input(\"Enter Character to be counted : \")\n",
    "count=0\n",
    "for i in n:\n",
    "    if i==c:\n",
    "        count=count+1\n",
    "print(str(count))"
   ]
  },
  {
   "cell_type": "code",
   "execution_count": 31,
   "id": "6d6ca266",
   "metadata": {},
   "outputs": [
    {
     "name": "stdout",
     "output_type": "stream",
     "text": [
      "Enter any String : madam\n",
      "It is a Palindrome\n"
     ]
    }
   ],
   "source": [
    "#Q17\n",
    "n=input(\"Enter any String : \")\n",
    "def mypalindrome(n):\n",
    "    return n==n[::-1]\n",
    "pal=mypalindrome(n)\n",
    "if pal:\n",
    "    print(\"It is a Palindrome\")\n",
    "else:\n",
    "    print(\"Not a Palindrome\")"
   ]
  },
  {
   "cell_type": "code",
   "execution_count": 33,
   "id": "50a3e4f0",
   "metadata": {},
   "outputs": [
    {
     "name": "stdout",
     "output_type": "stream",
     "text": [
      "Enter String 1 : vamsi\n",
      "Enter String 2 : am\n",
      "Substring Found\n"
     ]
    }
   ],
   "source": [
    "#Q18\n",
    "def finder(s1, s2):\n",
    "    if (s1.find(s2) == -1):\n",
    "        print(\"Not Present as a substring\")\n",
    "    else:\n",
    "        print(\"Substring Found\")\n",
    "            \n",
    "s1=input(\"Enter String 1 : \")\n",
    "s2=input(\"Enter String 2 : \")\n",
    "finder(s1,s2)"
   ]
  },
  {
   "cell_type": "code",
   "execution_count": 35,
   "id": "ace968ed",
   "metadata": {},
   "outputs": [
    {
     "name": "stdout",
     "output_type": "stream",
     "text": [
      "Welcome to Our Website \n",
      "\n",
      "-------------------------------------------------------------------------------------------------------------------------------\n",
      "\n",
      "To Register yourself, please Sign up with an Username and Password :\n",
      "\n",
      "\n",
      "While Registering please keep in mind the following\n",
      "\n",
      "Criteria for the password: \n",
      " 1.Password should have At least 1 letter between [a-z] \n",
      " 2.Password should have At least 1 number between [0-9] \n",
      " 3.Password should have At least 1 letter between [@$#%&] \n",
      "\n",
      "Enter Username Here: Vamsi34\n",
      "Enter Password Here: sce23@ef\n",
      "Registeration Successful . Thanks For Registering to Our Website\n"
     ]
    }
   ],
   "source": [
    "#Q19\n",
    "print(\"Welcome to Our Website \\n\")\n",
    "print(\"-------------------------------------------------------------------------------------------------------------------------------\\n\")\n",
    "print(\"To Register yourself, please Sign up with an Username and Password :\\n\\n\")\n",
    "\n",
    "print(\"While Registering please keep in mind the following\\n\")\n",
    "print(\"Criteria for the password: \\n\",\n",
    "\n",
    "\"1.Password should have At least 1 letter between [a-z] \\n\",\n",
    "\n",
    "\"2.Password should have At least 1 number between [0-9] \\n\",\n",
    "\n",
    "\"3.Password should have At least 1 letter between [@$#%&] \\n\")\n",
    "\n",
    "def password_check(passwd):\n",
    "      \n",
    "    SpecialSym =['@', '$', '#', '%', '&']\n",
    "    val = True\n",
    "          \n",
    "    if not any(char.isdigit() for char in passwd):\n",
    "        print(\"Password should have At least 1 number between [0-9] \")\n",
    "        val = False\n",
    "          \n",
    "    if not any(char.isalpha() for char in passwd):\n",
    "        print(\"Password should have At least 1 letter between [a-z] \")\n",
    "        val = False\n",
    "          \n",
    "    if not any(char in SpecialSym for char in passwd):\n",
    "        print(\"Password should have At least one of the symbols [@$#%&] \")\n",
    "        val = False\n",
    "    if val:\n",
    "        return val\n",
    "  \n",
    "\n",
    "\n",
    "username=input(\"Enter Username Here: \")\n",
    "passwd=input(\"Enter Password Here: \")\n",
    "\n",
    "      \n",
    "if (password_check(passwd)):\n",
    "    print(\"Registeration Successful . Thanks For Registering to Our Website\")\n",
    "else:\n",
    "    print(\"Invalid Password !!! Please Read the Criteria of Password Carefully \")   "
   ]
  },
  {
   "cell_type": "code",
   "execution_count": 37,
   "id": "590aeb8c",
   "metadata": {},
   "outputs": [
    {
     "name": "stdout",
     "output_type": "stream",
     "text": [
      "The vowels Are :  ['e', 'o', 'o', 'a', 'e', 'o', 'u', 'a']\n"
     ]
    }
   ],
   "source": [
    "#Q20\n",
    "s=\"Hello how are you all\"\n",
    "list=[]\n",
    "for i in s:\n",
    "    if i=='a'or i=='i'or i=='e'or i== 'o'or i== 'u' or i=='A'or i=='I'or i=='E'or i== 'O'or i== 'U':\n",
    "        list.append(i)\n",
    "print(\"The vowels Are : \",list)"
   ]
  }
 ],
 "metadata": {
  "kernelspec": {
   "display_name": "Python 3",
   "language": "python",
   "name": "python3"
  },
  "language_info": {
   "codemirror_mode": {
    "name": "ipython",
    "version": 3
   },
   "file_extension": ".py",
   "mimetype": "text/x-python",
   "name": "python",
   "nbconvert_exporter": "python",
   "pygments_lexer": "ipython3",
   "version": "3.9.5"
  }
 },
 "nbformat": 4,
 "nbformat_minor": 5
}
